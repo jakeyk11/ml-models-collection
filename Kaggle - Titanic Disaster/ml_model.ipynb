{
 "cells": [
  {
   "cell_type": "markdown",
   "id": "5750e9c0-16bd-4d99-9ff2-98f1aa35b01f",
   "metadata": {},
   "source": [
    "# Titanic Machine Learning Problem\n",
    "\n",
    "### Step 1: Data Import and Exploration (EDA)"
   ]
  },
  {
   "cell_type": "code",
   "execution_count": 1,
   "id": "aed55211-b158-4a74-a82c-a12a453b89d8",
   "metadata": {},
   "outputs": [],
   "source": [
    "# Imports\n",
    "import pandas as pd\n",
    "import numpy as np\n",
    "import matplotlib.pyplot as plt\n",
    "import seaborn as sns\n",
    "import math\n",
    "\n",
    "# Load data\n",
    "train_df = pd.read_csv(\"data/train.csv\").set_index('PassengerId')\n",
    "test_df = pd.read_csv(\"data/test.csv\").set_index('PassengerId')"
   ]
  },
  {
   "cell_type": "markdown",
   "id": "e4e46eb4-8115-476f-950d-e62e5e7d8db9",
   "metadata": {},
   "source": [
    "Run some quick checks on data structure, column names, typical values, data types, etc"
   ]
  },
  {
   "cell_type": "code",
   "execution_count": 2,
   "id": "4689fe89-acbc-4ae0-93ac-01fb9000dbfc",
   "metadata": {},
   "outputs": [
    {
     "data": {
      "text/plain": [
       "(891, 11)"
      ]
     },
     "execution_count": 2,
     "metadata": {},
     "output_type": "execute_result"
    }
   ],
   "source": [
    "train_df.shape"
   ]
  },
  {
   "cell_type": "code",
   "execution_count": 3,
   "id": "e1bf7ea9-e14f-4081-a86f-5f32adf2caf1",
   "metadata": {},
   "outputs": [
    {
     "data": {
      "text/html": [
       "<div>\n",
       "<style scoped>\n",
       "    .dataframe tbody tr th:only-of-type {\n",
       "        vertical-align: middle;\n",
       "    }\n",
       "\n",
       "    .dataframe tbody tr th {\n",
       "        vertical-align: top;\n",
       "    }\n",
       "\n",
       "    .dataframe thead th {\n",
       "        text-align: right;\n",
       "    }\n",
       "</style>\n",
       "<table border=\"1\" class=\"dataframe\">\n",
       "  <thead>\n",
       "    <tr style=\"text-align: right;\">\n",
       "      <th></th>\n",
       "      <th>Survived</th>\n",
       "      <th>Pclass</th>\n",
       "      <th>Name</th>\n",
       "      <th>Sex</th>\n",
       "      <th>Age</th>\n",
       "      <th>SibSp</th>\n",
       "      <th>Parch</th>\n",
       "      <th>Ticket</th>\n",
       "      <th>Fare</th>\n",
       "      <th>Cabin</th>\n",
       "      <th>Embarked</th>\n",
       "    </tr>\n",
       "    <tr>\n",
       "      <th>PassengerId</th>\n",
       "      <th></th>\n",
       "      <th></th>\n",
       "      <th></th>\n",
       "      <th></th>\n",
       "      <th></th>\n",
       "      <th></th>\n",
       "      <th></th>\n",
       "      <th></th>\n",
       "      <th></th>\n",
       "      <th></th>\n",
       "      <th></th>\n",
       "    </tr>\n",
       "  </thead>\n",
       "  <tbody>\n",
       "    <tr>\n",
       "      <th>1</th>\n",
       "      <td>0</td>\n",
       "      <td>3</td>\n",
       "      <td>Braund, Mr. Owen Harris</td>\n",
       "      <td>male</td>\n",
       "      <td>22.0</td>\n",
       "      <td>1</td>\n",
       "      <td>0</td>\n",
       "      <td>A/5 21171</td>\n",
       "      <td>7.2500</td>\n",
       "      <td>NaN</td>\n",
       "      <td>S</td>\n",
       "    </tr>\n",
       "    <tr>\n",
       "      <th>2</th>\n",
       "      <td>1</td>\n",
       "      <td>1</td>\n",
       "      <td>Cumings, Mrs. John Bradley (Florence Briggs Th...</td>\n",
       "      <td>female</td>\n",
       "      <td>38.0</td>\n",
       "      <td>1</td>\n",
       "      <td>0</td>\n",
       "      <td>PC 17599</td>\n",
       "      <td>71.2833</td>\n",
       "      <td>C85</td>\n",
       "      <td>C</td>\n",
       "    </tr>\n",
       "    <tr>\n",
       "      <th>3</th>\n",
       "      <td>1</td>\n",
       "      <td>3</td>\n",
       "      <td>Heikkinen, Miss. Laina</td>\n",
       "      <td>female</td>\n",
       "      <td>26.0</td>\n",
       "      <td>0</td>\n",
       "      <td>0</td>\n",
       "      <td>STON/O2. 3101282</td>\n",
       "      <td>7.9250</td>\n",
       "      <td>NaN</td>\n",
       "      <td>S</td>\n",
       "    </tr>\n",
       "    <tr>\n",
       "      <th>4</th>\n",
       "      <td>1</td>\n",
       "      <td>1</td>\n",
       "      <td>Futrelle, Mrs. Jacques Heath (Lily May Peel)</td>\n",
       "      <td>female</td>\n",
       "      <td>35.0</td>\n",
       "      <td>1</td>\n",
       "      <td>0</td>\n",
       "      <td>113803</td>\n",
       "      <td>53.1000</td>\n",
       "      <td>C123</td>\n",
       "      <td>S</td>\n",
       "    </tr>\n",
       "    <tr>\n",
       "      <th>5</th>\n",
       "      <td>0</td>\n",
       "      <td>3</td>\n",
       "      <td>Allen, Mr. William Henry</td>\n",
       "      <td>male</td>\n",
       "      <td>35.0</td>\n",
       "      <td>0</td>\n",
       "      <td>0</td>\n",
       "      <td>373450</td>\n",
       "      <td>8.0500</td>\n",
       "      <td>NaN</td>\n",
       "      <td>S</td>\n",
       "    </tr>\n",
       "  </tbody>\n",
       "</table>\n",
       "</div>"
      ],
      "text/plain": [
       "             Survived  Pclass  \\\n",
       "PassengerId                     \n",
       "1                   0       3   \n",
       "2                   1       1   \n",
       "3                   1       3   \n",
       "4                   1       1   \n",
       "5                   0       3   \n",
       "\n",
       "                                                          Name     Sex   Age  \\\n",
       "PassengerId                                                                    \n",
       "1                                      Braund, Mr. Owen Harris    male  22.0   \n",
       "2            Cumings, Mrs. John Bradley (Florence Briggs Th...  female  38.0   \n",
       "3                                       Heikkinen, Miss. Laina  female  26.0   \n",
       "4                 Futrelle, Mrs. Jacques Heath (Lily May Peel)  female  35.0   \n",
       "5                                     Allen, Mr. William Henry    male  35.0   \n",
       "\n",
       "             SibSp  Parch            Ticket     Fare Cabin Embarked  \n",
       "PassengerId                                                          \n",
       "1                1      0         A/5 21171   7.2500   NaN        S  \n",
       "2                1      0          PC 17599  71.2833   C85        C  \n",
       "3                0      0  STON/O2. 3101282   7.9250   NaN        S  \n",
       "4                1      0            113803  53.1000  C123        S  \n",
       "5                0      0            373450   8.0500   NaN        S  "
      ]
     },
     "execution_count": 3,
     "metadata": {},
     "output_type": "execute_result"
    }
   ],
   "source": [
    "train_df.head(5)"
   ]
  },
  {
   "cell_type": "code",
   "execution_count": 4,
   "id": "0fafe0f2-1cea-4bcb-9cda-9adcd36c8318",
   "metadata": {},
   "outputs": [
    {
     "name": "stdout",
     "output_type": "stream",
     "text": [
      "<class 'pandas.core.frame.DataFrame'>\n",
      "Int64Index: 891 entries, 1 to 891\n",
      "Data columns (total 11 columns):\n",
      " #   Column    Non-Null Count  Dtype  \n",
      "---  ------    --------------  -----  \n",
      " 0   Survived  891 non-null    int64  \n",
      " 1   Pclass    891 non-null    int64  \n",
      " 2   Name      891 non-null    object \n",
      " 3   Sex       891 non-null    object \n",
      " 4   Age       714 non-null    float64\n",
      " 5   SibSp     891 non-null    int64  \n",
      " 6   Parch     891 non-null    int64  \n",
      " 7   Ticket    891 non-null    object \n",
      " 8   Fare      891 non-null    float64\n",
      " 9   Cabin     204 non-null    object \n",
      " 10  Embarked  889 non-null    object \n",
      "dtypes: float64(2), int64(4), object(5)\n",
      "memory usage: 83.5+ KB\n"
     ]
    }
   ],
   "source": [
    "train_df.info()"
   ]
  },
  {
   "cell_type": "markdown",
   "id": "1f4f1811-2d28-4c7b-9228-81034da4efce",
   "metadata": {},
   "source": [
    "There are a significant number of null entries in the age and cabin columns which must be dealt with later. Now look at the distribution and properties of numerical and categorical/text data:"
   ]
  },
  {
   "cell_type": "code",
   "execution_count": 5,
   "id": "021ba137-e3fe-412d-8bf0-f1f4e8bb1449",
   "metadata": {},
   "outputs": [
    {
     "data": {
      "text/html": [
       "<div>\n",
       "<style scoped>\n",
       "    .dataframe tbody tr th:only-of-type {\n",
       "        vertical-align: middle;\n",
       "    }\n",
       "\n",
       "    .dataframe tbody tr th {\n",
       "        vertical-align: top;\n",
       "    }\n",
       "\n",
       "    .dataframe thead th {\n",
       "        text-align: right;\n",
       "    }\n",
       "</style>\n",
       "<table border=\"1\" class=\"dataframe\">\n",
       "  <thead>\n",
       "    <tr style=\"text-align: right;\">\n",
       "      <th></th>\n",
       "      <th>Survived</th>\n",
       "      <th>Pclass</th>\n",
       "      <th>Age</th>\n",
       "      <th>SibSp</th>\n",
       "      <th>Parch</th>\n",
       "      <th>Fare</th>\n",
       "    </tr>\n",
       "  </thead>\n",
       "  <tbody>\n",
       "    <tr>\n",
       "      <th>count</th>\n",
       "      <td>891.000000</td>\n",
       "      <td>891.000000</td>\n",
       "      <td>714.000000</td>\n",
       "      <td>891.000000</td>\n",
       "      <td>891.000000</td>\n",
       "      <td>891.000000</td>\n",
       "    </tr>\n",
       "    <tr>\n",
       "      <th>mean</th>\n",
       "      <td>0.383838</td>\n",
       "      <td>2.308642</td>\n",
       "      <td>29.699118</td>\n",
       "      <td>0.523008</td>\n",
       "      <td>0.381594</td>\n",
       "      <td>32.204208</td>\n",
       "    </tr>\n",
       "    <tr>\n",
       "      <th>std</th>\n",
       "      <td>0.486592</td>\n",
       "      <td>0.836071</td>\n",
       "      <td>14.526497</td>\n",
       "      <td>1.102743</td>\n",
       "      <td>0.806057</td>\n",
       "      <td>49.693429</td>\n",
       "    </tr>\n",
       "    <tr>\n",
       "      <th>min</th>\n",
       "      <td>0.000000</td>\n",
       "      <td>1.000000</td>\n",
       "      <td>0.420000</td>\n",
       "      <td>0.000000</td>\n",
       "      <td>0.000000</td>\n",
       "      <td>0.000000</td>\n",
       "    </tr>\n",
       "    <tr>\n",
       "      <th>25%</th>\n",
       "      <td>0.000000</td>\n",
       "      <td>2.000000</td>\n",
       "      <td>20.125000</td>\n",
       "      <td>0.000000</td>\n",
       "      <td>0.000000</td>\n",
       "      <td>7.910400</td>\n",
       "    </tr>\n",
       "    <tr>\n",
       "      <th>50%</th>\n",
       "      <td>0.000000</td>\n",
       "      <td>3.000000</td>\n",
       "      <td>28.000000</td>\n",
       "      <td>0.000000</td>\n",
       "      <td>0.000000</td>\n",
       "      <td>14.454200</td>\n",
       "    </tr>\n",
       "    <tr>\n",
       "      <th>75%</th>\n",
       "      <td>1.000000</td>\n",
       "      <td>3.000000</td>\n",
       "      <td>38.000000</td>\n",
       "      <td>1.000000</td>\n",
       "      <td>0.000000</td>\n",
       "      <td>31.000000</td>\n",
       "    </tr>\n",
       "    <tr>\n",
       "      <th>max</th>\n",
       "      <td>1.000000</td>\n",
       "      <td>3.000000</td>\n",
       "      <td>80.000000</td>\n",
       "      <td>8.000000</td>\n",
       "      <td>6.000000</td>\n",
       "      <td>512.329200</td>\n",
       "    </tr>\n",
       "  </tbody>\n",
       "</table>\n",
       "</div>"
      ],
      "text/plain": [
       "         Survived      Pclass         Age       SibSp       Parch        Fare\n",
       "count  891.000000  891.000000  714.000000  891.000000  891.000000  891.000000\n",
       "mean     0.383838    2.308642   29.699118    0.523008    0.381594   32.204208\n",
       "std      0.486592    0.836071   14.526497    1.102743    0.806057   49.693429\n",
       "min      0.000000    1.000000    0.420000    0.000000    0.000000    0.000000\n",
       "25%      0.000000    2.000000   20.125000    0.000000    0.000000    7.910400\n",
       "50%      0.000000    3.000000   28.000000    0.000000    0.000000   14.454200\n",
       "75%      1.000000    3.000000   38.000000    1.000000    0.000000   31.000000\n",
       "max      1.000000    3.000000   80.000000    8.000000    6.000000  512.329200"
      ]
     },
     "execution_count": 5,
     "metadata": {},
     "output_type": "execute_result"
    }
   ],
   "source": [
    "train_df.describe()"
   ]
  },
  {
   "cell_type": "code",
   "execution_count": 6,
   "id": "be61df7e-c156-43d1-ad07-8e4e1d9bc109",
   "metadata": {},
   "outputs": [
    {
     "data": {
      "text/html": [
       "<div>\n",
       "<style scoped>\n",
       "    .dataframe tbody tr th:only-of-type {\n",
       "        vertical-align: middle;\n",
       "    }\n",
       "\n",
       "    .dataframe tbody tr th {\n",
       "        vertical-align: top;\n",
       "    }\n",
       "\n",
       "    .dataframe thead th {\n",
       "        text-align: right;\n",
       "    }\n",
       "</style>\n",
       "<table border=\"1\" class=\"dataframe\">\n",
       "  <thead>\n",
       "    <tr style=\"text-align: right;\">\n",
       "      <th></th>\n",
       "      <th>Name</th>\n",
       "      <th>Sex</th>\n",
       "      <th>Ticket</th>\n",
       "      <th>Cabin</th>\n",
       "      <th>Embarked</th>\n",
       "    </tr>\n",
       "  </thead>\n",
       "  <tbody>\n",
       "    <tr>\n",
       "      <th>count</th>\n",
       "      <td>891</td>\n",
       "      <td>891</td>\n",
       "      <td>891</td>\n",
       "      <td>204</td>\n",
       "      <td>889</td>\n",
       "    </tr>\n",
       "    <tr>\n",
       "      <th>unique</th>\n",
       "      <td>891</td>\n",
       "      <td>2</td>\n",
       "      <td>681</td>\n",
       "      <td>147</td>\n",
       "      <td>3</td>\n",
       "    </tr>\n",
       "    <tr>\n",
       "      <th>top</th>\n",
       "      <td>Braund, Mr. Owen Harris</td>\n",
       "      <td>male</td>\n",
       "      <td>347082</td>\n",
       "      <td>B96 B98</td>\n",
       "      <td>S</td>\n",
       "    </tr>\n",
       "    <tr>\n",
       "      <th>freq</th>\n",
       "      <td>1</td>\n",
       "      <td>577</td>\n",
       "      <td>7</td>\n",
       "      <td>4</td>\n",
       "      <td>644</td>\n",
       "    </tr>\n",
       "  </tbody>\n",
       "</table>\n",
       "</div>"
      ],
      "text/plain": [
       "                           Name   Sex  Ticket    Cabin Embarked\n",
       "count                       891   891     891      204      889\n",
       "unique                      891     2     681      147        3\n",
       "top     Braund, Mr. Owen Harris  male  347082  B96 B98        S\n",
       "freq                          1   577       7        4      644"
      ]
     },
     "execution_count": 6,
     "metadata": {},
     "output_type": "execute_result"
    }
   ],
   "source": [
    "train_df.describe(include=['O'])"
   ]
  },
  {
   "cell_type": "markdown",
   "id": "ed2a046a-729e-4967-b2e6-2b29968fe511",
   "metadata": {},
   "source": [
    "Define categorical and continous columns"
   ]
  },
  {
   "cell_type": "code",
   "execution_count": 7,
   "id": "1fead38e-e063-435c-bc85-4a80b7a02844",
   "metadata": {},
   "outputs": [],
   "source": [
    "cat_cols = ['Pclass', 'Sex', 'Embarked']\n",
    "cont_cols = ['Age', 'Fare', 'SibSp', 'Parch']"
   ]
  },
  {
   "cell_type": "markdown",
   "id": "3bc92c0c-b4a9-4bdf-a38b-0d5318bbcb35",
   "metadata": {},
   "source": [
    "Look at the correlation between individual features and the response:"
   ]
  },
  {
   "cell_type": "code",
   "execution_count": 8,
   "id": "2ec2784c-7b6e-4fab-9981-66c8f7ec7ce2",
   "metadata": {},
   "outputs": [
    {
     "data": {
      "image/png": "[encoded data removed]",
      "text/plain": [
       "<Figure size 640x480 with 7 Axes>"
      ]
     },
     "metadata": {},
     "output_type": "display_data"
    },
    {
     "data": {
      "image/png": "[encoded data removed]",
      "text/plain": [
       "<Figure size 640x480 with 7 Axes>"
      ]
     },
     "metadata": {},
     "output_type": "display_data"
    }
   ],
   "source": [
    "# Choose number of cols and calc number of rows to plot on\n",
    "n_cols = 4\n",
    "n_rows = math.ceil((len(cat_cols) + len(cont_cols))/4)\n",
    "\n",
    "# Create grid of subplots for count and response plots\n",
    "cnt_fig, cnt_axs = plt.subplots(nrows=n_rows, ncols=n_cols)\n",
    "res_fig, res_axs = plt.subplots(nrows=n_rows, ncols=n_cols)\n",
    "\n",
    "# Flatten ax for iteration\n",
    "cnt_axs = cnt_axs.flatten()\n",
    "res_axs = res_axs.flatten()\n",
    "\n",
    "# Plot categorical columns first\n",
    "for i, col in enumerate(cat_cols):\n",
    "    sns.countplot(data=train_df, x=col, hue='Survived', palette=[\"tomato\",\"mediumseagreen\"], ax = cnt_axs[i])\n",
    "    sns.barplot(data=train_df, x=col, y='Survived', ax = res_axs[i]) \n",
    "    if i!=0:\n",
    "        cnt_axs[i].get_legend().remove()\n",
    "    if i%n_cols!=0:\n",
    "        cnt_axs[i].set(ylabel=None)\n",
    "        res_axs[i].set(ylabel=None)\n",
    "\n",
    "# Plot continous columns\n",
    "for i, col in enumerate(cont_cols):\n",
    "    i=i+len(cat_cols)\n",
    "    sns.histplot(data=train_df, x=col, hue='Survived', kde=True, palette=[\"tomato\",\"mediumseagreen\"], bins=min(10,len(train_df[col].unique())), legend=None, ax=cnt_axs[i])\n",
    "    sns.scatterplot(data=train_df, x=col, y='Survived', hue='Survived', palette=[\"tomato\",\"mediumseagreen\"], legend=None, ax=res_axs[i])\n",
    "    sns.regplot(data=train_df, x=col, y='Survived', scatter=False, logistic=True, ax=res_axs[i])\n",
    "    if i%n_cols!=0:\n",
    "        cnt_axs[i].set(ylabel=None)\n",
    "        res_axs[i].set(ylabel=None)\n",
    "    \n",
    "# Remove unused subplots\n",
    "if len(cat_cols) + len(cont_cols) < n_rows*n_cols:\n",
    "    for i in range(len(cat_cols) + len(cont_cols), n_rows*n_cols):\n",
    "        cnt_fig.delaxes(cnt_axs[i])\n",
    "        res_fig.delaxes(res_axs[i])\n",
    "        \n",
    "cnt_fig.tight_layout()\n",
    "res_fig.tight_layout()"
   ]
  },
  {
   "cell_type": "markdown",
   "id": "0decacea-661b-467f-bca6-8ae522e500bb",
   "metadata": {},
   "source": [
    "The following observations are made:\n",
    "\n",
    "* Higher class passengers have higher survival rate\n",
    "* Females have significantly better survival rate\n",
    "* Higher number of siblings/spouses associated with lower rate of survival, but low sample sizes for SibSp > 1\n",
    "* Passengers embarking from 'C' have marginally better survival rate, although most passengers embarked from 'S'\n",
    "* Age may have some relationship with survival rate, but may be a result of correlation of age with class\n",
    "* Increase fair increases survival rate (aligned with class), although there is an outlier in fare that must be removed."
   ]
  },
  {
   "cell_type": "markdown",
   "id": "5f607d52-475e-4abb-8016-f92312f10da3",
   "metadata": {},
   "source": [
    "Having investigated relationships between features and response, now look at relationships between all variables using a correlation matrix: "
   ]
  },
  {
   "cell_type": "code",
   "execution_count": 9,
   "id": "35888bf9-17d3-4a69-aba9-03c76fcb49e3",
   "metadata": {},
   "outputs": [
    {
     "data": {
      "image/png": "[encoded data removed]",
      "text/plain": [
       "<Figure size 640x480 with 2 Axes>"
      ]
     },
     "metadata": {},
     "output_type": "display_data"
    }
   ],
   "source": [
    "correlations = train_df.corr(numeric_only=True)\n",
    "sns.heatmap(correlations, annot = True, cmap = 'PiYG', vmin=-1, vmax=1);"
   ]
  },
  {
   "cell_type": "markdown",
   "id": "2488ab25-2c51-4e68-b830-01424069a469",
   "metadata": {},
   "source": [
    "The following observations are made:\n",
    "\n",
    "* Correlation between class and survival rate confirmed\n",
    "* Correlation between age and class exists, but correlation between age and surival rate is less obvious.\n",
    "* Correlation between fare and survival rate confirmed\n",
    "* Correlation between fare and class strong"
   ]
  },
  {
   "cell_type": "markdown",
   "id": "278361d3-e161-459c-92f3-fb6a171034f7",
   "metadata": {},
   "source": [
    "Let's have a look at outliers"
   ]
  },
  {
   "cell_type": "code",
   "execution_count": 10,
   "id": "b4ac7054-b9b9-4958-a810-508837d85032",
   "metadata": {},
   "outputs": [
    {
     "data": {
      "image/png": "[encoded data removed]",
      "text/plain": [
       "<Figure size 640x480 with 2 Axes>"
      ]
     },
     "metadata": {},
     "output_type": "display_data"
    }
   ],
   "source": [
    "train_df[cont_cols[0:2]].plot(kind='box', subplots=True, sharey=False);"
   ]
  },
  {
   "cell_type": "markdown",
   "id": "343d3137-b0ee-4b6b-8a55-2c314003805b",
   "metadata": {},
   "source": [
    "There are outliers in age and fare as expected. The Age outliers are simply characteristics of the dataset and do not vary significantly from the typicaly distribution of age, and are therefore retained.\n",
    "\n",
    "The cluster of fare outliers around 200-300 and 500 could cause issues if our ML algorithm is not robust in dealing with outliers. At this stage it appears safety to remove these outliers are they different significantly from the typical distribution of fare."
   ]
  },
  {
   "cell_type": "markdown",
   "id": "81dae3ae-eae0-4a80-86b1-c551225b27c0",
   "metadata": {},
   "source": [
    "### Step 2: Pre-process Data"
   ]
  },
  {
   "cell_type": "code",
   "execution_count": 11,
   "id": "fb108a3f-d9ab-44cb-bcd4-8061a8b97b8e",
   "metadata": {},
   "outputs": [],
   "source": [
    "from sklearn.pipeline import Pipeline\n",
    "from sklearn.impute import SimpleImputer\n",
    "from sklearn.preprocessing import StandardScaler, OneHotEncoder\n",
    "from sklearn.compose import ColumnTransformer\n",
    "from sklearn.base import BaseEstimator, TransformerMixin"
   ]
  },
  {
   "cell_type": "markdown",
   "id": "bebf4efa-8529-4998-b40a-cb2ed06c296f",
   "metadata": {},
   "source": [
    "Remove features that are definitely not going to be used at this point:\n",
    "* Passenger name contains title, but is of limited use given that there is sex feature\n",
    "* Ticket number is not useful\n",
    "* Cabin contains a large number of nulls and is not useable."
   ]
  },
  {
   "cell_type": "code",
   "execution_count": 12,
   "id": "583534a9-eb49-4914-bb65-d17cbac01ea4",
   "metadata": {},
   "outputs": [],
   "source": [
    "train_df = train_df.drop(['Name', 'Ticket', 'Cabin'], axis=1)"
   ]
  },
  {
   "cell_type": "markdown",
   "id": "6f9908e3-cad3-400f-a7b3-07c1febad546",
   "metadata": {},
   "source": [
    "Now remove outliers based on the 'Fare' feature"
   ]
  },
  {
   "cell_type": "code",
   "execution_count": 13,
   "id": "f7e9dd58-2366-4ca5-928a-24b2c07707a6",
   "metadata": {},
   "outputs": [],
   "source": [
    "z_scores = np.abs((train_df['Fare'] - np.mean(train_df['Fare'])) / np.std(train_df['Fare']))\n",
    "train_df = train_df[z_scores < 3]"
   ]
  },
  {
   "cell_type": "markdown",
   "id": "dd2082f5-ef5e-4e2c-8da9-4a065490298d",
   "metadata": {},
   "source": [
    "Specify which of the remaining features are categorical, which are numerical and what the response is. Unspecified features will not be processed."
   ]
  },
  {
   "cell_type": "code",
   "execution_count": 14,
   "id": "6c41f4fe-ca0b-4f3b-b17f-7fdd0bdc87d6",
   "metadata": {},
   "outputs": [],
   "source": [
    "cat_features = ['Pclass', 'Sex', 'Embarked']\n",
    "num_features = ['Age', 'Fare', 'SibSp', 'Parch']\n",
    "response = ['Survived']"
   ]
  },
  {
   "cell_type": "markdown",
   "id": "9cf862e7-569e-442f-b40b-4fb9e35225cb",
   "metadata": {},
   "source": [
    "Create transformer for numerical features, which:\n",
    "\n",
    "* Uses SibSp and Parch to calculate family size variable (use custom transformer)\n",
    "* Deals with null values (sets to mean)\n",
    "* Scales features between 0-1 using standard scaling"
   ]
  },
  {
   "cell_type": "code",
   "execution_count": 15,
   "id": "949f64d8-ea56-4cc1-b8ae-2e0265563ec8",
   "metadata": {},
   "outputs": [],
   "source": [
    "# Custom transformer to add family size\n",
    "class AddFamilyMembers(BaseEstimator, TransformerMixin):\n",
    "    def fit(self, X, y=None):\n",
    "        return self\n",
    "    def transform(self, X, y=None):\n",
    "        X['FamilyMembers'] = X['SibSp'] + X['Parch']\n",
    "        X = X.drop('SibSp', axis=1)\n",
    "        X = X.drop('Parch', axis=1)\n",
    "        return X\n",
    "    def get_feature_names(self):\n",
    "        return 'FamilyMembers'\n",
    "    \n",
    "# Numerical transformer\n",
    "num_transformer = Pipeline(steps = \n",
    "                           [('add_family_members', AddFamilyMembers()),\n",
    "                            ('impute_med', SimpleImputer(strategy='mean')),\n",
    "                            ('scaler', StandardScaler())])"
   ]
  },
  {
   "cell_type": "markdown",
   "id": "7a579f8c-eb7a-4d98-a3b8-0849310511dc",
   "metadata": {},
   "source": [
    "Create transformer for categorical features, which:\n",
    "* Deals with null values (sets to mode)\n",
    "* Numerically encodes features"
   ]
  },
  {
   "cell_type": "code",
   "execution_count": 16,
   "id": "a999ebc2-7a29-4456-b8fb-a74f5b8a5dee",
   "metadata": {},
   "outputs": [],
   "source": [
    "# Categorical transformer\n",
    "cat_transformer = Pipeline(steps =\n",
    "                           [('impute_mode', SimpleImputer(strategy='most_frequent')),\n",
    "                            ('encode_1h', OneHotEncoder(drop='first'))])"
   ]
  },
  {
   "cell_type": "markdown",
   "id": "d00d3322-b05d-401a-a27b-56f6dd90a85b",
   "metadata": {},
   "source": [
    "Combine transformers to define pre-processing pipeline and then add to overall classifier pipeline:"
   ]
  },
  {
   "cell_type": "code",
   "execution_count": 17,
   "id": "9fccaa7b-85b8-4d91-8577-c06bc6142798",
   "metadata": {},
   "outputs": [],
   "source": [
    "preprocessor = ColumnTransformer(transformers =\n",
    "                                 [('num', num_transformer, num_features),\n",
    "                                  ('cat', cat_transformer, cat_features)],\n",
    "                                   remainder = 'passthrough')\n",
    "clf = Pipeline(steps=\n",
    "            [('preprocessor', preprocessor)])"
   ]
  },
  {
   "cell_type": "markdown",
   "id": "23933530-b245-4df0-94ee-2cb6d27d01d7",
   "metadata": {},
   "source": [
    "Apply the transformer to the training data"
   ]
  },
  {
   "cell_type": "code",
   "execution_count": 18,
   "id": "74c5f5e4-eee7-4b5d-ac51-3c1b347c447e",
   "metadata": {},
   "outputs": [],
   "source": [
    "X_train_data_pp = clf.fit_transform(train_df)"
   ]
  },
  {
   "cell_type": "markdown",
   "id": "a4f9e047-078a-4e61-a0bf-ae579b7b751e",
   "metadata": {},
   "source": [
    "For the purposes of visualisation and checking, create a dataframe containing the pre-processed training data, defining a function to name columns appropriately."
   ]
  },
  {
   "cell_type": "code",
   "execution_count": 19,
   "id": "b3c65ce1-b401-4e37-9b9f-62da50b8c89f",
   "metadata": {},
   "outputs": [],
   "source": [
    "def get_column_names(transformer):\n",
    "    col_names = []\n",
    "    list_transformers = transformer.transformers_\n",
    "    for single_transformer in list_transformers:\n",
    "        if isinstance(single_transformer[1],Pipeline): \n",
    "            idx = -2 if isinstance(single_transformer[1][-1], StandardScaler) else -1\n",
    "            col_names = col_names + list(single_transformer[1][idx].get_feature_names_out())\n",
    "        else:\n",
    "            pass\n",
    "    \n",
    "    return col_names\n",
    "\n",
    "cols = get_column_names(preprocessor) + ['Survived']\n",
    "train_df_pp = pd.DataFrame(X_train_data_pp)\n",
    "train_df_pp.columns = cols"
   ]
  },
  {
   "cell_type": "markdown",
   "id": "6bb5c9ec-20d8-4a1e-910c-f9ab58a0093f",
   "metadata": {},
   "source": [
    "View training data"
   ]
  },
  {
   "cell_type": "code",
   "execution_count": 20,
   "id": "41d95652-c71f-430c-90df-68a8c8ae8c00",
   "metadata": {},
   "outputs": [
    {
     "data": {
      "text/html": [
       "<div>\n",
       "<style scoped>\n",
       "    .dataframe tbody tr th:only-of-type {\n",
       "        vertical-align: middle;\n",
       "    }\n",
       "\n",
       "    .dataframe tbody tr th {\n",
       "        vertical-align: top;\n",
       "    }\n",
       "\n",
       "    .dataframe thead th {\n",
       "        text-align: right;\n",
       "    }\n",
       "</style>\n",
       "<table border=\"1\" class=\"dataframe\">\n",
       "  <thead>\n",
       "    <tr style=\"text-align: right;\">\n",
       "      <th></th>\n",
       "      <th>Age</th>\n",
       "      <th>Fare</th>\n",
       "      <th>FamilyMembers</th>\n",
       "      <th>x0_2</th>\n",
       "      <th>x0_3</th>\n",
       "      <th>x1_male</th>\n",
       "      <th>x2_Q</th>\n",
       "      <th>x2_S</th>\n",
       "      <th>Survived</th>\n",
       "    </tr>\n",
       "  </thead>\n",
       "  <tbody>\n",
       "    <tr>\n",
       "      <th>0</th>\n",
       "      <td>-0.588566</td>\n",
       "      <td>-0.657256</td>\n",
       "      <td>0.072580</td>\n",
       "      <td>0.0</td>\n",
       "      <td>1.0</td>\n",
       "      <td>1.0</td>\n",
       "      <td>0.0</td>\n",
       "      <td>1.0</td>\n",
       "      <td>0.0</td>\n",
       "    </tr>\n",
       "    <tr>\n",
       "      <th>1</th>\n",
       "      <td>0.640628</td>\n",
       "      <td>1.525623</td>\n",
       "      <td>0.072580</td>\n",
       "      <td>0.0</td>\n",
       "      <td>0.0</td>\n",
       "      <td>0.0</td>\n",
       "      <td>0.0</td>\n",
       "      <td>0.0</td>\n",
       "      <td>1.0</td>\n",
       "    </tr>\n",
       "    <tr>\n",
       "      <th>2</th>\n",
       "      <td>-0.281268</td>\n",
       "      <td>-0.634246</td>\n",
       "      <td>-0.553329</td>\n",
       "      <td>0.0</td>\n",
       "      <td>1.0</td>\n",
       "      <td>0.0</td>\n",
       "      <td>0.0</td>\n",
       "      <td>1.0</td>\n",
       "      <td>1.0</td>\n",
       "    </tr>\n",
       "    <tr>\n",
       "      <th>3</th>\n",
       "      <td>0.410154</td>\n",
       "      <td>0.905759</td>\n",
       "      <td>0.072580</td>\n",
       "      <td>0.0</td>\n",
       "      <td>0.0</td>\n",
       "      <td>0.0</td>\n",
       "      <td>0.0</td>\n",
       "      <td>1.0</td>\n",
       "      <td>1.0</td>\n",
       "    </tr>\n",
       "    <tr>\n",
       "      <th>4</th>\n",
       "      <td>0.410154</td>\n",
       "      <td>-0.629984</td>\n",
       "      <td>-0.553329</td>\n",
       "      <td>0.0</td>\n",
       "      <td>1.0</td>\n",
       "      <td>1.0</td>\n",
       "      <td>0.0</td>\n",
       "      <td>1.0</td>\n",
       "      <td>0.0</td>\n",
       "    </tr>\n",
       "  </tbody>\n",
       "</table>\n",
       "</div>"
      ],
      "text/plain": [
       "        Age      Fare  FamilyMembers  x0_2  x0_3  x1_male  x2_Q  x2_S  \\\n",
       "0 -0.588566 -0.657256       0.072580   0.0   1.0      1.0   0.0   1.0   \n",
       "1  0.640628  1.525623       0.072580   0.0   0.0      0.0   0.0   0.0   \n",
       "2 -0.281268 -0.634246      -0.553329   0.0   1.0      0.0   0.0   1.0   \n",
       "3  0.410154  0.905759       0.072580   0.0   0.0      0.0   0.0   1.0   \n",
       "4  0.410154 -0.629984      -0.553329   0.0   1.0      1.0   0.0   1.0   \n",
       "\n",
       "   Survived  \n",
       "0       0.0  \n",
       "1       1.0  \n",
       "2       1.0  \n",
       "3       1.0  \n",
       "4       0.0  "
      ]
     },
     "execution_count": 20,
     "metadata": {},
     "output_type": "execute_result"
    }
   ],
   "source": [
    "train_df_pp.head(5)"
   ]
  },
  {
   "cell_type": "markdown",
   "id": "470556be-7d72-4e9f-be56-8de5c9902051",
   "metadata": {
    "tags": []
   },
   "source": [
    "### Step 3 - Model Selection"
   ]
  },
  {
   "cell_type": "code",
   "execution_count": 21,
   "id": "2b54f633-5d0b-4d84-beee-f5b9d10b231d",
   "metadata": {},
   "outputs": [],
   "source": [
    "from sklearn.linear_model import LogisticRegression\n",
    "from sklearn.neighbors import KNeighborsClassifier\n",
    "from sklearn.tree import DecisionTreeClassifier\n",
    "from sklearn.ensemble import RandomForestClassifier, GradientBoostingClassifier\n",
    "from sklearn.svm import SVC\n",
    "from sklearn.metrics import make_scorer, accuracy_score, precision_score, recall_score, f1_score, roc_auc_score, roc_curve\n",
    "from sklearn.model_selection import cross_validate"
   ]
  },
  {
   "cell_type": "markdown",
   "id": "e7f4f13a-a58e-498e-8b25-f8c60aef48d1",
   "metadata": {},
   "source": [
    "Isolate the features and response before feeding ML models. The cross_validation function that we will use requires data in dataframe format. Remember that the preprocessing step will still be completed before model fitment:"
   ]
  },
  {
   "cell_type": "code",
   "execution_count": 22,
   "id": "1da8e33a-058f-4374-8727-33e652ad3ff3",
   "metadata": {},
   "outputs": [],
   "source": [
    "y_train = train_df.iloc[:,0]\n",
    "X_train = train_df.iloc[:,1:]"
   ]
  },
  {
   "cell_type": "markdown",
   "id": "65244110-4892-44e3-b38b-1ea45a26a010",
   "metadata": {},
   "source": [
    "Define a list of models to test. Because we are performing classification, the following algorithms will be explored:\n",
    "* Logistic Regression\n",
    "* k Nearest Neighbours\n",
    "* Support vector machine\n",
    "* Decision Tree Classifier\n",
    "* Random Forest Classifier\n",
    "* Gradient Boosted Decision Tree"
   ]
  },
  {
   "cell_type": "code",
   "execution_count": 23,
   "id": "cd002ba1-03b7-40d2-8af0-a2926139301b",
   "metadata": {},
   "outputs": [],
   "source": [
    "models = [('Logistic Regression', LogisticRegression()),\n",
    "          ('K-Nearest Neighbors', KNeighborsClassifier()),\n",
    "          ('SVM', SVC()),\n",
    "          ('Decision Tree', DecisionTreeClassifier()),\n",
    "          ('Random Forest', RandomForestClassifier()),\n",
    "          ('Gradient Boosting', GradientBoostingClassifier())]"
   ]
  },
  {
   "cell_type": "markdown",
   "id": "4bbdf0af-b81e-4bef-ba5a-63d5fcbd5297",
   "metadata": {},
   "source": [
    "Define a list of metrics to evaluate the machine learning models against:\n",
    "\n",
    "* Fit time: Time taken to fit model on training data\n",
    "* Score time: Time take to predict on test data\n",
    "* Accuracy: Proportion of correct predictions made on test data\n",
    "* Precision: Proportion of true positive predictions made on test data out of all positive predictions made\n",
    "* Recall: Proportion of true positive predictions made on test data out of all actual positive instances in test data\n",
    "* F1: Mean of precision and recall\n",
    "* Area under ROC: Area under the plot of true positive rate against false negative rate"
   ]
  },
  {
   "cell_type": "code",
   "execution_count": 24,
   "id": "f19517f7-6f73-42f3-aa49-a22d4bfbd820",
   "metadata": {},
   "outputs": [],
   "source": [
    "scoring = {\n",
    "    'accuracy': make_scorer(accuracy_score),\n",
    "    'precision': make_scorer(precision_score),\n",
    "    'recall': make_scorer(recall_score),\n",
    "    'f1': make_scorer(f1_score),\n",
    "    'roc_auc': make_scorer(roc_auc_score)\n",
    "}"
   ]
  },
  {
   "cell_type": "markdown",
   "id": "f4c7ace2-9791-4f69-a35c-956aca71a0c1",
   "metadata": {},
   "source": [
    "Create a test pipeline (seperate to our core clf pipeline) to individually check each model and evaluate it. Apply cross-validation, which involves fitting multiple models (per model selection) against different splits of training data, before aggregating evaluation metrics:"
   ]
  },
  {
   "cell_type": "code",
   "execution_count": 25,
   "id": "12de9468-989d-40c9-aa95-fd42bbdac3ff",
   "metadata": {},
   "outputs": [],
   "source": [
    "model_performance = pd.DataFrame()\n",
    "for name, model in models:\n",
    "    test_pipeline = Pipeline(steps =\n",
    "                             [('preprocessor', preprocessor),\n",
    "                              ('model', model)])\n",
    "    cv_results = cross_validate(estimator=test_pipeline, X=X_train, y=y_train, cv=10, scoring=scoring, error_score='raise')\n",
    "    cv_result = pd.DataFrame.from_dict(cv_results).mean()\n",
    "    cv_result.name = name\n",
    "    model_performance = pd.concat([model_performance,cv_result], axis=1)"
   ]
  },
  {
   "cell_type": "code",
   "execution_count": 26,
   "id": "69aced78-3de6-49b7-9ba9-f0a61d62ea2c",
   "metadata": {},
   "outputs": [
    {
     "data": {
      "text/html": [
       "<div>\n",
       "<style scoped>\n",
       "    .dataframe tbody tr th:only-of-type {\n",
       "        vertical-align: middle;\n",
       "    }\n",
       "\n",
       "    .dataframe tbody tr th {\n",
       "        vertical-align: top;\n",
       "    }\n",
       "\n",
       "    .dataframe thead th {\n",
       "        text-align: right;\n",
       "    }\n",
       "</style>\n",
       "<table border=\"1\" class=\"dataframe\">\n",
       "  <thead>\n",
       "    <tr style=\"text-align: right;\">\n",
       "      <th></th>\n",
       "      <th>fit_time</th>\n",
       "      <th>score_time</th>\n",
       "      <th>test_accuracy</th>\n",
       "      <th>test_precision</th>\n",
       "      <th>test_recall</th>\n",
       "      <th>test_f1</th>\n",
       "      <th>test_roc_auc</th>\n",
       "    </tr>\n",
       "  </thead>\n",
       "  <tbody>\n",
       "    <tr>\n",
       "      <th>SVM</th>\n",
       "      <td>0.067775</td>\n",
       "      <td>0.026428</td>\n",
       "      <td>0.822093</td>\n",
       "      <td>0.817614</td>\n",
       "      <td>0.691728</td>\n",
       "      <td>0.742470</td>\n",
       "      <td>0.796195</td>\n",
       "    </tr>\n",
       "    <tr>\n",
       "      <th>Gradient Boosting</th>\n",
       "      <td>0.275022</td>\n",
       "      <td>0.021761</td>\n",
       "      <td>0.816147</td>\n",
       "      <td>0.799480</td>\n",
       "      <td>0.691176</td>\n",
       "      <td>0.735526</td>\n",
       "      <td>0.791256</td>\n",
       "    </tr>\n",
       "    <tr>\n",
       "      <th>K-Nearest Neighbors</th>\n",
       "      <td>0.026639</td>\n",
       "      <td>0.026809</td>\n",
       "      <td>0.806131</td>\n",
       "      <td>0.772041</td>\n",
       "      <td>0.704228</td>\n",
       "      <td>0.730047</td>\n",
       "      <td>0.785844</td>\n",
       "    </tr>\n",
       "    <tr>\n",
       "      <th>Random Forest</th>\n",
       "      <td>0.437959</td>\n",
       "      <td>0.040837</td>\n",
       "      <td>0.805973</td>\n",
       "      <td>0.758524</td>\n",
       "      <td>0.728493</td>\n",
       "      <td>0.736982</td>\n",
       "      <td>0.790635</td>\n",
       "    </tr>\n",
       "    <tr>\n",
       "      <th>Logistic Regression</th>\n",
       "      <td>0.039033</td>\n",
       "      <td>0.022645</td>\n",
       "      <td>0.799075</td>\n",
       "      <td>0.772525</td>\n",
       "      <td>0.676103</td>\n",
       "      <td>0.715299</td>\n",
       "      <td>0.774626</td>\n",
       "    </tr>\n",
       "    <tr>\n",
       "      <th>Decision Tree</th>\n",
       "      <td>0.028295</td>\n",
       "      <td>0.022121</td>\n",
       "      <td>0.778541</td>\n",
       "      <td>0.711483</td>\n",
       "      <td>0.713787</td>\n",
       "      <td>0.706519</td>\n",
       "      <td>0.765855</td>\n",
       "    </tr>\n",
       "  </tbody>\n",
       "</table>\n",
       "</div>"
      ],
      "text/plain": [
       "                     fit_time  score_time  test_accuracy  test_precision  \\\n",
       "SVM                  0.067775    0.026428       0.822093        0.817614   \n",
       "Gradient Boosting    0.275022    0.021761       0.816147        0.799480   \n",
       "K-Nearest Neighbors  0.026639    0.026809       0.806131        0.772041   \n",
       "Random Forest        0.437959    0.040837       0.805973        0.758524   \n",
       "Logistic Regression  0.039033    0.022645       0.799075        0.772525   \n",
       "Decision Tree        0.028295    0.022121       0.778541        0.711483   \n",
       "\n",
       "                     test_recall   test_f1  test_roc_auc  \n",
       "SVM                     0.691728  0.742470      0.796195  \n",
       "Gradient Boosting       0.691176  0.735526      0.791256  \n",
       "K-Nearest Neighbors     0.704228  0.730047      0.785844  \n",
       "Random Forest           0.728493  0.736982      0.790635  \n",
       "Logistic Regression     0.676103  0.715299      0.774626  \n",
       "Decision Tree           0.713787  0.706519      0.765855  "
      ]
     },
     "execution_count": 26,
     "metadata": {},
     "output_type": "execute_result"
    }
   ],
   "source": [
    "model_performance.T.sort_values('test_accuracy', ascending = False)"
   ]
  },
  {
   "cell_type": "markdown",
   "id": "acec7bf7-541b-4b2d-8e7f-d6cdc8c29d0b",
   "metadata": {},
   "source": [
    "In the context of the Titanic dataset, where the classes are somewhat imbalanced (approximately 60% of the passengers did not survive), precision and recall are important metrics to consider alongside accuracy. Based on the results in the table, the model with the highest F1 score is the Gradient Boosting model, which also has the highest recall score. However, the Random Forest model has the highest precision score, which could be important if minimizing false positives (i.e., predicting someone will survive when they actually did not) is a priority. The SVM and K-Nearest Neighbors models also perform reasonably well across most metrics.\n",
    "\n",
    "With it's highest overall accuracy, a Gradient Boosting algorithm will be chosen to go forwards"
   ]
  },
  {
   "cell_type": "code",
   "execution_count": 27,
   "id": "86048f3e-6cf0-4860-a848-221fb32b9a94",
   "metadata": {},
   "outputs": [],
   "source": [
    "clf.steps.append(('model',GradientBoostingClassifier()))"
   ]
  },
  {
   "cell_type": "markdown",
   "id": "3f476da0-2f9e-45a7-b889-d38a4b1bdb0a",
   "metadata": {},
   "source": [
    "### Step 4 - Hyperparameter Tuning"
   ]
  },
  {
   "cell_type": "markdown",
   "id": "aebee247-11ce-4523-aefd-fb794af76ee4",
   "metadata": {},
   "source": [
    "Now we look to optimise the Gradient Boosted Decision Tree classifier through tuning hyper-parameters. We are going to apply a simple grid search approach to tune tree-specific and boosting parameters:"
   ]
  },
  {
   "cell_type": "code",
   "execution_count": 28,
   "id": "debdafc5-155e-4ffc-9e85-56dde74d6ab1",
   "metadata": {},
   "outputs": [],
   "source": [
    "from sklearn.model_selection import GridSearchCV"
   ]
  },
  {
   "cell_type": "markdown",
   "id": "a5f0d8f4-599f-4ec6-9955-e81a8542c9f9",
   "metadata": {},
   "source": [
    "Define parameters to tune, including grid of values to test for each:\n",
    "* n_estimators: Number of sequential trees / boosting stages to be modelled.\n",
    "* learning_rate: Contribution of each tree to the final ensemble.\n",
    "* max_depth: Maximum depth of tree (should be based on number of records)\n",
    "* min_samples_split: Minumum number of observations required in a node to be considered for splitting (0.5-1% total records)\n",
    "* min_samples_leaf: Minimum samples required in a terminal node or leaf.\n",
    "* subsample: Fraction of observations to be selected for each tree"
   ]
  },
  {
   "cell_type": "code",
   "execution_count": 41,
   "id": "ca5ce01d-f05e-4bf8-b561-2c35d427c271",
   "metadata": {},
   "outputs": [],
   "source": [
    "# Use model__ to pass parameters to classifier only (as opposed to preprocessor)\n",
    "param_grid = {\n",
    "    'model__n_estimators': [100, 200, 300],\n",
    "    'model__learning_rate': [0.05, 0.1, 0.2],\n",
    "    'model__max_depth': [3, 4, 5],\n",
    "    'model__min_samples_split': [2, 4, 6],\n",
    "#    'model__min_samples_leaf': [2, 4, 6],\n",
    "#    'model__subsample': [0.7, 0.8, 0.9]\n",
    "}"
   ]
  },
  {
   "cell_type": "markdown",
   "id": "b6a12dc6-6f5a-4b05-9a45-1a6cd59bb0a6",
   "metadata": {},
   "source": [
    "Perform hyperparameter tuning, using accuracy as the target function:"
   ]
  },
  {
   "cell_type": "code",
   "execution_count": 44,
   "id": "045f76d5-6eac-4554-bdd9-624baff3873f",
   "metadata": {},
   "outputs": [],
   "source": [
    "grid_search = GridSearchCV(clf, param_grid, cv=5, scoring='accuracy', n_jobs=-1)\n",
    "grid_fit = grid_search.fit(X_train, y_train)"
   ]
  },
  {
   "cell_type": "markdown",
   "id": "709740fa-875b-4f42-8d0b-f14546acc601",
   "metadata": {},
   "source": [
    "Visualise results"
   ]
  },
  {
   "cell_type": "code",
   "execution_count": 55,
   "id": "02fb7438-6053-44f0-a7bd-08744a333e25",
   "metadata": {},
   "outputs": [
    {
     "name": "stdout",
     "output_type": "stream",
     "text": [
      "GradientBoostingClassifier(learning_rate=0.2, min_samples_split=6)\n"
     ]
    },
    {
     "data": {
      "text/html": [
       "<div>\n",
       "<style scoped>\n",
       "    .dataframe tbody tr th:only-of-type {\n",
       "        vertical-align: middle;\n",
       "    }\n",
       "\n",
       "    .dataframe tbody tr th {\n",
       "        vertical-align: top;\n",
       "    }\n",
       "\n",
       "    .dataframe thead th {\n",
       "        text-align: right;\n",
       "    }\n",
       "</style>\n",
       "<table border=\"1\" class=\"dataframe\">\n",
       "  <thead>\n",
       "    <tr style=\"text-align: right;\">\n",
       "      <th></th>\n",
       "      <th>mean_fit_time</th>\n",
       "      <th>std_fit_time</th>\n",
       "      <th>mean_score_time</th>\n",
       "      <th>std_score_time</th>\n",
       "      <th>param_model__learning_rate</th>\n",
       "      <th>param_model__max_depth</th>\n",
       "      <th>param_model__min_samples_split</th>\n",
       "      <th>param_model__n_estimators</th>\n",
       "      <th>params</th>\n",
       "      <th>split0_test_score</th>\n",
       "      <th>split1_test_score</th>\n",
       "      <th>split2_test_score</th>\n",
       "      <th>split3_test_score</th>\n",
       "      <th>split4_test_score</th>\n",
       "      <th>mean_test_score</th>\n",
       "      <th>std_test_score</th>\n",
       "      <th>rank_test_score</th>\n",
       "    </tr>\n",
       "  </thead>\n",
       "  <tbody>\n",
       "    <tr>\n",
       "      <th>60</th>\n",
       "      <td>0.429923</td>\n",
       "      <td>0.063478</td>\n",
       "      <td>0.024882</td>\n",
       "      <td>0.013795</td>\n",
       "      <td>0.2</td>\n",
       "      <td>3</td>\n",
       "      <td>6</td>\n",
       "      <td>100</td>\n",
       "      <td>{'model__learning_rate': 0.2, 'model__max_dept...</td>\n",
       "      <td>0.822857</td>\n",
       "      <td>0.839080</td>\n",
       "      <td>0.862069</td>\n",
       "      <td>0.833333</td>\n",
       "      <td>0.821839</td>\n",
       "      <td>0.835836</td>\n",
       "      <td>0.014624</td>\n",
       "      <td>1</td>\n",
       "    </tr>\n",
       "    <tr>\n",
       "      <th>32</th>\n",
       "      <td>1.190915</td>\n",
       "      <td>0.042426</td>\n",
       "      <td>0.020786</td>\n",
       "      <td>0.003917</td>\n",
       "      <td>0.1</td>\n",
       "      <td>3</td>\n",
       "      <td>4</td>\n",
       "      <td>300</td>\n",
       "      <td>{'model__learning_rate': 0.1, 'model__max_dept...</td>\n",
       "      <td>0.828571</td>\n",
       "      <td>0.821839</td>\n",
       "      <td>0.873563</td>\n",
       "      <td>0.821839</td>\n",
       "      <td>0.833333</td>\n",
       "      <td>0.835829</td>\n",
       "      <td>0.019361</td>\n",
       "      <td>2</td>\n",
       "    </tr>\n",
       "    <tr>\n",
       "      <th>29</th>\n",
       "      <td>1.388285</td>\n",
       "      <td>0.280195</td>\n",
       "      <td>0.020786</td>\n",
       "      <td>0.003917</td>\n",
       "      <td>0.1</td>\n",
       "      <td>3</td>\n",
       "      <td>2</td>\n",
       "      <td>300</td>\n",
       "      <td>{'model__learning_rate': 0.1, 'model__max_dept...</td>\n",
       "      <td>0.828571</td>\n",
       "      <td>0.816092</td>\n",
       "      <td>0.856322</td>\n",
       "      <td>0.827586</td>\n",
       "      <td>0.839080</td>\n",
       "      <td>0.833530</td>\n",
       "      <td>0.013522</td>\n",
       "      <td>3</td>\n",
       "    </tr>\n",
       "    <tr>\n",
       "      <th>31</th>\n",
       "      <td>0.811821</td>\n",
       "      <td>0.045992</td>\n",
       "      <td>0.022190</td>\n",
       "      <td>0.005943</td>\n",
       "      <td>0.1</td>\n",
       "      <td>3</td>\n",
       "      <td>4</td>\n",
       "      <td>200</td>\n",
       "      <td>{'model__learning_rate': 0.1, 'model__max_dept...</td>\n",
       "      <td>0.811429</td>\n",
       "      <td>0.827586</td>\n",
       "      <td>0.856322</td>\n",
       "      <td>0.833333</td>\n",
       "      <td>0.833333</td>\n",
       "      <td>0.832401</td>\n",
       "      <td>0.014401</td>\n",
       "      <td>4</td>\n",
       "    </tr>\n",
       "    <tr>\n",
       "      <th>17</th>\n",
       "      <td>1.439916</td>\n",
       "      <td>0.013260</td>\n",
       "      <td>0.028123</td>\n",
       "      <td>0.006251</td>\n",
       "      <td>0.05</td>\n",
       "      <td>4</td>\n",
       "      <td>6</td>\n",
       "      <td>300</td>\n",
       "      <td>{'model__learning_rate': 0.05, 'model__max_dep...</td>\n",
       "      <td>0.817143</td>\n",
       "      <td>0.827586</td>\n",
       "      <td>0.873563</td>\n",
       "      <td>0.804598</td>\n",
       "      <td>0.839080</td>\n",
       "      <td>0.832394</td>\n",
       "      <td>0.023529</td>\n",
       "      <td>5</td>\n",
       "    </tr>\n",
       "  </tbody>\n",
       "</table>\n",
       "</div>"
      ],
      "text/plain": [
       "    mean_fit_time  std_fit_time  mean_score_time  std_score_time  \\\n",
       "60       0.429923      0.063478         0.024882        0.013795   \n",
       "32       1.190915      0.042426         0.020786        0.003917   \n",
       "29       1.388285      0.280195         0.020786        0.003917   \n",
       "31       0.811821      0.045992         0.022190        0.005943   \n",
       "17       1.439916      0.013260         0.028123        0.006251   \n",
       "\n",
       "   param_model__learning_rate param_model__max_depth  \\\n",
       "60                        0.2                      3   \n",
       "32                        0.1                      3   \n",
       "29                        0.1                      3   \n",
       "31                        0.1                      3   \n",
       "17                       0.05                      4   \n",
       "\n",
       "   param_model__min_samples_split param_model__n_estimators  \\\n",
       "60                              6                       100   \n",
       "32                              4                       300   \n",
       "29                              2                       300   \n",
       "31                              4                       200   \n",
       "17                              6                       300   \n",
       "\n",
       "                                               params  split0_test_score  \\\n",
       "60  {'model__learning_rate': 0.2, 'model__max_dept...           0.822857   \n",
       "32  {'model__learning_rate': 0.1, 'model__max_dept...           0.828571   \n",
       "29  {'model__learning_rate': 0.1, 'model__max_dept...           0.828571   \n",
       "31  {'model__learning_rate': 0.1, 'model__max_dept...           0.811429   \n",
       "17  {'model__learning_rate': 0.05, 'model__max_dep...           0.817143   \n",
       "\n",
       "    split1_test_score  split2_test_score  split3_test_score  \\\n",
       "60           0.839080           0.862069           0.833333   \n",
       "32           0.821839           0.873563           0.821839   \n",
       "29           0.816092           0.856322           0.827586   \n",
       "31           0.827586           0.856322           0.833333   \n",
       "17           0.827586           0.873563           0.804598   \n",
       "\n",
       "    split4_test_score  mean_test_score  std_test_score  rank_test_score  \n",
       "60           0.821839         0.835836        0.014624                1  \n",
       "32           0.833333         0.835829        0.019361                2  \n",
       "29           0.839080         0.833530        0.013522                3  \n",
       "31           0.833333         0.832401        0.014401                4  \n",
       "17           0.839080         0.832394        0.023529                5  "
      ]
     },
     "execution_count": 55,
     "metadata": {},
     "output_type": "execute_result"
    }
   ],
   "source": [
    "print(grid_fit.best_estimator_[1])\n",
    "pd.DataFrame(grid_fit.cv_results_).sort_values('mean_test_score', ascending=False).head(5)"
   ]
  },
  {
   "cell_type": "markdown",
   "id": "60514168-25b3-418e-9dbf-6111bf0569cf",
   "metadata": {},
   "source": [
    "Choose the best estimator as the machine learning model of choice!"
   ]
  },
  {
   "cell_type": "code",
   "execution_count": 56,
   "id": "704e3a2a-a6c0-411a-b8b9-922318a13890",
   "metadata": {},
   "outputs": [],
   "source": [
    "clf = grid_fit.best_estimator_"
   ]
  },
  {
   "cell_type": "markdown",
   "id": "4d7ea250-f690-4eb3-90c1-b3665d65167c",
   "metadata": {},
   "source": [
    "### Step 5 - Training and Evaluation"
   ]
  },
  {
   "cell_type": "code",
   "execution_count": 62,
   "id": "10ea930c-11a1-4937-b927-6b4a356f2cb6",
   "metadata": {},
   "outputs": [],
   "source": [
    "from sklearn.metrics import roc_curve, roc_auc_score"
   ]
  },
  {
   "cell_type": "markdown",
   "id": "1bbeff79-5f6d-42b8-98b6-f5288ab24faa",
   "metadata": {},
   "source": [
    "Train the model based on the chosen algorithm and hyperparameters"
   ]
  },
  {
   "cell_type": "code",
   "execution_count": 61,
   "id": "b7b3236f-6686-4709-a60b-fa4315f096d3",
   "metadata": {},
   "outputs": [
    {
     "data": {
      "text/plain": [
       "fit_time          0.282239\n",
       "score_time        0.021873\n",
       "test_accuracy     0.830107\n",
       "test_precision    0.805481\n",
       "test_recall       0.725000\n",
       "test_f1           0.761840\n",
       "test_roc_auc      0.809150\n",
       "dtype: float64"
      ]
     },
     "execution_count": 61,
     "metadata": {},
     "output_type": "execute_result"
    }
   ],
   "source": [
    "cv_results = cross_validate(clf, X_train, y_train, cv=10, scoring=scoring)\n",
    "pd.DataFrame.from_dict(cv_results).mean()\n"
   ]
  },
  {
   "cell_type": "markdown",
   "id": "da4170fe-4cef-49d0-a64c-f860600ae464",
   "metadata": {},
   "source": [
    "### Step 6 - Prediction"
   ]
  },
  {
   "cell_type": "code",
   "execution_count": 71,
   "id": "d9aca855-7e4b-4b22-9947-da908125116d",
   "metadata": {},
   "outputs": [],
   "source": [
    "y_pred = clf.predict(test_df)\n",
    "\n",
    "# Create a DataFrame with PassengerId and Survived columns\n",
    "submission = pd.DataFrame({'PassengerId': test_df.index, 'Survived': y_pred})\n",
    "\n",
    "# Save the DataFrame to a CSV file\n",
    "submission.to_csv('output/submission.csv', index=False)"
   ]
  }
 ],
 "metadata": {
  "kernelspec": {
   "display_name": "Python 3 (ipykernel)",
   "language": "python",
   "name": "python3"
  },
  "language_info": {
   "codemirror_mode": {
    "name": "ipython",
    "version": 3
   },
   "file_extension": ".py",
   "mimetype": "text/x-python",
   "name": "python",
   "nbconvert_exporter": "python",
   "pygments_lexer": "ipython3",
   "version": "3.9.16"
  }
 },
 "nbformat": 4,
 "nbformat_minor": 5
}
